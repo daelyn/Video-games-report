{
 "cells": [
  {
   "cell_type": "markdown",
   "metadata": {},
   "source": [
    "# *Video Games Sales Analysis*\n",
    "\n",
    "       - by Daelyn Oliveira and Prachi Kharat"
   ]
  },
  {
   "cell_type": "markdown",
   "metadata": {},
   "source": [
    "## 1. Objective of the Proposed Research -"
   ]
  },
  {
   "cell_type": "markdown",
   "metadata": {},
   "source": [
    "Our stakeholder for this analysis project is Sony Interactive Entertainment. Sony is the second largest video game publisher in the world since 1994 and have published many notable games like God of War. \n",
    "They want to publish a new game in the market again, for which they need efficient analysis done of the past few years video game data to be able to successfully launch a new game and have maximum global sales. <br>\n",
    "<br>\n",
    "   \n",
    "Our objective is to help Sony Interactive Entertainment understand the market and how the critics score and users score given to games affect the global sales. The various factors that can affect sales in our dataset are overall global sales of a particular game, sales of how the game performed in regions of North America, Japan and Europe, also we have scores given by critic as well as users. This report tries to find how these above factors affect global sales.<br>\n",
    "<br>\n",
    "\n",
    "Sony has to keep track of its competition and also know when and how to release video games which ensures profit in all regions and also know whether the users and critics score makes a difference in the sales or not. All the answers to these questions will be found once we complete analysis of the dataset. After which Sony Interactive Entertainment will have a foolproof plan of action for video game release.  <br>\n"
   ]
  },
  {
   "cell_type": "markdown",
   "metadata": {},
   "source": [
    "## 2. Data Exploration -"
   ]
  },
  {
   "cell_type": "markdown",
   "metadata": {},
   "source": [
    "First we will read the dataset,"
   ]
  },
  {
   "cell_type": "code",
   "execution_count": 1,
   "metadata": {},
   "outputs": [],
   "source": [
    "games_sales <- read.csv(\"Video_Games_Sales_as_at_22_Dec_2016.csv\")"
   ]
  },
  {
   "cell_type": "markdown",
   "metadata": {},
   "source": [
    "Now lets see the first ten values of the dataset to better understand it."
   ]
  },
  {
   "cell_type": "code",
   "execution_count": 2,
   "metadata": {},
   "outputs": [
    {
     "data": {
      "text/html": [
       "<table>\n",
       "<thead><tr><th scope=col>Name</th><th scope=col>Platform</th><th scope=col>Year_of_Release</th><th scope=col>Genre</th><th scope=col>Publisher</th><th scope=col>NA_Sales</th><th scope=col>EU_Sales</th><th scope=col>JP_Sales</th><th scope=col>Other_Sales</th><th scope=col>Global_Sales</th><th scope=col>Critic_Score</th><th scope=col>Critic_Count</th><th scope=col>User_Score</th><th scope=col>User_Count</th><th scope=col>Developer</th><th scope=col>Rating</th></tr></thead>\n",
       "<tbody>\n",
       "\t<tr><td>Wii Sports               </td><td>Wii                      </td><td>2006                     </td><td>Sports                   </td><td>Nintendo                 </td><td>41.36                    </td><td>28.96                    </td><td> 3.77                    </td><td>8.45                     </td><td>82.53                    </td><td>76                       </td><td>51                       </td><td>8.0                      </td><td>322                      </td><td>Nintendo                 </td><td>E                        </td></tr>\n",
       "\t<tr><td>Super Mario Bros.        </td><td>NES                      </td><td>1985                     </td><td>Platform                 </td><td>Nintendo                 </td><td>29.08                    </td><td> 3.58                    </td><td> 6.81                    </td><td>0.77                     </td><td>40.24                    </td><td>NA                       </td><td>NA                       </td><td> NA                      </td><td> NA                      </td><td>                         </td><td>                         </td></tr>\n",
       "\t<tr><td>Mario Kart Wii           </td><td>Wii                      </td><td>2008                     </td><td>Racing                   </td><td>Nintendo                 </td><td>15.68                    </td><td>12.76                    </td><td> 3.79                    </td><td>3.29                     </td><td>35.52                    </td><td>82                       </td><td>73                       </td><td>8.3                      </td><td>709                      </td><td>Nintendo                 </td><td>E                        </td></tr>\n",
       "\t<tr><td>Wii Sports Resort        </td><td>Wii                      </td><td>2009                     </td><td>Sports                   </td><td>Nintendo                 </td><td>15.61                    </td><td>10.93                    </td><td> 3.28                    </td><td>2.95                     </td><td>32.77                    </td><td>80                       </td><td>73                       </td><td>8.0                      </td><td>192                      </td><td>Nintendo                 </td><td>E                        </td></tr>\n",
       "\t<tr><td>Pokemon Red/Pokemon Blue </td><td>GB                       </td><td>1996                     </td><td>Role-Playing             </td><td>Nintendo                 </td><td>11.27                    </td><td> 8.89                    </td><td>10.22                    </td><td>1.00                     </td><td>31.37                    </td><td>NA                       </td><td>NA                       </td><td> NA                      </td><td> NA                      </td><td>                         </td><td>                         </td></tr>\n",
       "\t<tr><td>Tetris                   </td><td>GB                       </td><td>1989                     </td><td>Puzzle                   </td><td>Nintendo                 </td><td>23.20                    </td><td> 2.26                    </td><td> 4.22                    </td><td>0.58                     </td><td>30.26                    </td><td>NA                       </td><td>NA                       </td><td> NA                      </td><td> NA                      </td><td>                         </td><td>                         </td></tr>\n",
       "\t<tr><td>New Super Mario Bros.    </td><td>DS                       </td><td>2006                     </td><td>Platform                 </td><td>Nintendo                 </td><td>11.28                    </td><td> 9.14                    </td><td> 6.50                    </td><td>2.88                     </td><td>29.80                    </td><td>89                       </td><td>65                       </td><td>8.5                      </td><td>431                      </td><td>Nintendo                 </td><td>E                        </td></tr>\n",
       "\t<tr><td>Wii Play                 </td><td>Wii                      </td><td>2006                     </td><td>Misc                     </td><td>Nintendo                 </td><td>13.96                    </td><td> 9.18                    </td><td> 2.93                    </td><td>2.84                     </td><td>28.92                    </td><td>58                       </td><td>41                       </td><td>6.6                      </td><td>129                      </td><td>Nintendo                 </td><td>E                        </td></tr>\n",
       "\t<tr><td>New Super Mario Bros. Wii</td><td>Wii                      </td><td>2009                     </td><td>Platform                 </td><td>Nintendo                 </td><td>14.44                    </td><td> 6.94                    </td><td> 4.70                    </td><td>2.24                     </td><td>28.32                    </td><td>87                       </td><td>80                       </td><td>8.4                      </td><td>594                      </td><td>Nintendo                 </td><td>E                        </td></tr>\n",
       "\t<tr><td>Duck Hunt                </td><td>NES                      </td><td>1984                     </td><td>Shooter                  </td><td>Nintendo                 </td><td>26.93                    </td><td> 0.63                    </td><td> 0.28                    </td><td>0.47                     </td><td>28.31                    </td><td>NA                       </td><td>NA                       </td><td> NA                      </td><td> NA                      </td><td>                         </td><td>                         </td></tr>\n",
       "</tbody>\n",
       "</table>\n"
      ],
      "text/latex": [
       "\\begin{tabular}{r|llllllllllllllll}\n",
       " Name & Platform & Year\\_of\\_Release & Genre & Publisher & NA\\_Sales & EU\\_Sales & JP\\_Sales & Other\\_Sales & Global\\_Sales & Critic\\_Score & Critic\\_Count & User\\_Score & User\\_Count & Developer & Rating\\\\\n",
       "\\hline\n",
       "\t Wii Sports                & Wii                       & 2006                      & Sports                    & Nintendo                  & 41.36                     & 28.96                     &  3.77                     & 8.45                      & 82.53                     & 76                        & 51                        & 8.0                       & 322                       & Nintendo                  & E                        \\\\\n",
       "\t Super Mario Bros.         & NES                       & 1985                      & Platform                  & Nintendo                  & 29.08                     &  3.58                     &  6.81                     & 0.77                      & 40.24                     & NA                        & NA                        &  NA                       &  NA                       &                           &                          \\\\\n",
       "\t Mario Kart Wii            & Wii                       & 2008                      & Racing                    & Nintendo                  & 15.68                     & 12.76                     &  3.79                     & 3.29                      & 35.52                     & 82                        & 73                        & 8.3                       & 709                       & Nintendo                  & E                        \\\\\n",
       "\t Wii Sports Resort         & Wii                       & 2009                      & Sports                    & Nintendo                  & 15.61                     & 10.93                     &  3.28                     & 2.95                      & 32.77                     & 80                        & 73                        & 8.0                       & 192                       & Nintendo                  & E                        \\\\\n",
       "\t Pokemon Red/Pokemon Blue  & GB                        & 1996                      & Role-Playing              & Nintendo                  & 11.27                     &  8.89                     & 10.22                     & 1.00                      & 31.37                     & NA                        & NA                        &  NA                       &  NA                       &                           &                          \\\\\n",
       "\t Tetris                    & GB                        & 1989                      & Puzzle                    & Nintendo                  & 23.20                     &  2.26                     &  4.22                     & 0.58                      & 30.26                     & NA                        & NA                        &  NA                       &  NA                       &                           &                          \\\\\n",
       "\t New Super Mario Bros.     & DS                        & 2006                      & Platform                  & Nintendo                  & 11.28                     &  9.14                     &  6.50                     & 2.88                      & 29.80                     & 89                        & 65                        & 8.5                       & 431                       & Nintendo                  & E                        \\\\\n",
       "\t Wii Play                  & Wii                       & 2006                      & Misc                      & Nintendo                  & 13.96                     &  9.18                     &  2.93                     & 2.84                      & 28.92                     & 58                        & 41                        & 6.6                       & 129                       & Nintendo                  & E                        \\\\\n",
       "\t New Super Mario Bros. Wii & Wii                       & 2009                      & Platform                  & Nintendo                  & 14.44                     &  6.94                     &  4.70                     & 2.24                      & 28.32                     & 87                        & 80                        & 8.4                       & 594                       & Nintendo                  & E                        \\\\\n",
       "\t Duck Hunt                 & NES                       & 1984                      & Shooter                   & Nintendo                  & 26.93                     &  0.63                     &  0.28                     & 0.47                      & 28.31                     & NA                        & NA                        &  NA                       &  NA                       &                           &                          \\\\\n",
       "\\end{tabular}\n"
      ],
      "text/markdown": [
       "\n",
       "| Name | Platform | Year_of_Release | Genre | Publisher | NA_Sales | EU_Sales | JP_Sales | Other_Sales | Global_Sales | Critic_Score | Critic_Count | User_Score | User_Count | Developer | Rating |\n",
       "|---|---|---|---|---|---|---|---|---|---|---|---|---|---|---|---|\n",
       "| Wii Sports                | Wii                       | 2006                      | Sports                    | Nintendo                  | 41.36                     | 28.96                     |  3.77                     | 8.45                      | 82.53                     | 76                        | 51                        | 8.0                       | 322                       | Nintendo                  | E                         |\n",
       "| Super Mario Bros.         | NES                       | 1985                      | Platform                  | Nintendo                  | 29.08                     |  3.58                     |  6.81                     | 0.77                      | 40.24                     | NA                        | NA                        |  NA                       |  NA                       |                           |                           |\n",
       "| Mario Kart Wii            | Wii                       | 2008                      | Racing                    | Nintendo                  | 15.68                     | 12.76                     |  3.79                     | 3.29                      | 35.52                     | 82                        | 73                        | 8.3                       | 709                       | Nintendo                  | E                         |\n",
       "| Wii Sports Resort         | Wii                       | 2009                      | Sports                    | Nintendo                  | 15.61                     | 10.93                     |  3.28                     | 2.95                      | 32.77                     | 80                        | 73                        | 8.0                       | 192                       | Nintendo                  | E                         |\n",
       "| Pokemon Red/Pokemon Blue  | GB                        | 1996                      | Role-Playing              | Nintendo                  | 11.27                     |  8.89                     | 10.22                     | 1.00                      | 31.37                     | NA                        | NA                        |  NA                       |  NA                       |                           |                           |\n",
       "| Tetris                    | GB                        | 1989                      | Puzzle                    | Nintendo                  | 23.20                     |  2.26                     |  4.22                     | 0.58                      | 30.26                     | NA                        | NA                        |  NA                       |  NA                       |                           |                           |\n",
       "| New Super Mario Bros.     | DS                        | 2006                      | Platform                  | Nintendo                  | 11.28                     |  9.14                     |  6.50                     | 2.88                      | 29.80                     | 89                        | 65                        | 8.5                       | 431                       | Nintendo                  | E                         |\n",
       "| Wii Play                  | Wii                       | 2006                      | Misc                      | Nintendo                  | 13.96                     |  9.18                     |  2.93                     | 2.84                      | 28.92                     | 58                        | 41                        | 6.6                       | 129                       | Nintendo                  | E                         |\n",
       "| New Super Mario Bros. Wii | Wii                       | 2009                      | Platform                  | Nintendo                  | 14.44                     |  6.94                     |  4.70                     | 2.24                      | 28.32                     | 87                        | 80                        | 8.4                       | 594                       | Nintendo                  | E                         |\n",
       "| Duck Hunt                 | NES                       | 1984                      | Shooter                   | Nintendo                  | 26.93                     |  0.63                     |  0.28                     | 0.47                      | 28.31                     | NA                        | NA                        |  NA                       |  NA                       |                           |                           |\n",
       "\n"
      ],
      "text/plain": [
       "   Name                      Platform Year_of_Release Genre        Publisher\n",
       "1  Wii Sports                Wii      2006            Sports       Nintendo \n",
       "2  Super Mario Bros.         NES      1985            Platform     Nintendo \n",
       "3  Mario Kart Wii            Wii      2008            Racing       Nintendo \n",
       "4  Wii Sports Resort         Wii      2009            Sports       Nintendo \n",
       "5  Pokemon Red/Pokemon Blue  GB       1996            Role-Playing Nintendo \n",
       "6  Tetris                    GB       1989            Puzzle       Nintendo \n",
       "7  New Super Mario Bros.     DS       2006            Platform     Nintendo \n",
       "8  Wii Play                  Wii      2006            Misc         Nintendo \n",
       "9  New Super Mario Bros. Wii Wii      2009            Platform     Nintendo \n",
       "10 Duck Hunt                 NES      1984            Shooter      Nintendo \n",
       "   NA_Sales EU_Sales JP_Sales Other_Sales Global_Sales Critic_Score\n",
       "1  41.36    28.96     3.77    8.45        82.53        76          \n",
       "2  29.08     3.58     6.81    0.77        40.24        NA          \n",
       "3  15.68    12.76     3.79    3.29        35.52        82          \n",
       "4  15.61    10.93     3.28    2.95        32.77        80          \n",
       "5  11.27     8.89    10.22    1.00        31.37        NA          \n",
       "6  23.20     2.26     4.22    0.58        30.26        NA          \n",
       "7  11.28     9.14     6.50    2.88        29.80        89          \n",
       "8  13.96     9.18     2.93    2.84        28.92        58          \n",
       "9  14.44     6.94     4.70    2.24        28.32        87          \n",
       "10 26.93     0.63     0.28    0.47        28.31        NA          \n",
       "   Critic_Count User_Score User_Count Developer Rating\n",
       "1  51           8.0        322        Nintendo  E     \n",
       "2  NA            NA         NA                        \n",
       "3  73           8.3        709        Nintendo  E     \n",
       "4  73           8.0        192        Nintendo  E     \n",
       "5  NA            NA         NA                        \n",
       "6  NA            NA         NA                        \n",
       "7  65           8.5        431        Nintendo  E     \n",
       "8  41           6.6        129        Nintendo  E     \n",
       "9  80           8.4        594        Nintendo  E     \n",
       "10 NA            NA         NA                        "
      ]
     },
     "metadata": {},
     "output_type": "display_data"
    }
   ],
   "source": [
    "head(games_sales, n = 10)"
   ]
  },
  {
   "cell_type": "markdown",
   "metadata": {},
   "source": [
    "The following are the columns available in this dataset."
   ]
  },
  {
   "cell_type": "code",
   "execution_count": 3,
   "metadata": {},
   "outputs": [
    {
     "data": {
      "text/html": [
       "<ol class=list-inline>\n",
       "\t<li>'Name'</li>\n",
       "\t<li>'Platform'</li>\n",
       "\t<li>'Year_of_Release'</li>\n",
       "\t<li>'Genre'</li>\n",
       "\t<li>'Publisher'</li>\n",
       "\t<li>'NA_Sales'</li>\n",
       "\t<li>'EU_Sales'</li>\n",
       "\t<li>'JP_Sales'</li>\n",
       "\t<li>'Other_Sales'</li>\n",
       "\t<li>'Global_Sales'</li>\n",
       "\t<li>'Critic_Score'</li>\n",
       "\t<li>'Critic_Count'</li>\n",
       "\t<li>'User_Score'</li>\n",
       "\t<li>'User_Count'</li>\n",
       "\t<li>'Developer'</li>\n",
       "\t<li>'Rating'</li>\n",
       "</ol>\n"
      ],
      "text/latex": [
       "\\begin{enumerate*}\n",
       "\\item 'Name'\n",
       "\\item 'Platform'\n",
       "\\item 'Year\\_of\\_Release'\n",
       "\\item 'Genre'\n",
       "\\item 'Publisher'\n",
       "\\item 'NA\\_Sales'\n",
       "\\item 'EU\\_Sales'\n",
       "\\item 'JP\\_Sales'\n",
       "\\item 'Other\\_Sales'\n",
       "\\item 'Global\\_Sales'\n",
       "\\item 'Critic\\_Score'\n",
       "\\item 'Critic\\_Count'\n",
       "\\item 'User\\_Score'\n",
       "\\item 'User\\_Count'\n",
       "\\item 'Developer'\n",
       "\\item 'Rating'\n",
       "\\end{enumerate*}\n"
      ],
      "text/markdown": [
       "1. 'Name'\n",
       "2. 'Platform'\n",
       "3. 'Year_of_Release'\n",
       "4. 'Genre'\n",
       "5. 'Publisher'\n",
       "6. 'NA_Sales'\n",
       "7. 'EU_Sales'\n",
       "8. 'JP_Sales'\n",
       "9. 'Other_Sales'\n",
       "10. 'Global_Sales'\n",
       "11. 'Critic_Score'\n",
       "12. 'Critic_Count'\n",
       "13. 'User_Score'\n",
       "14. 'User_Count'\n",
       "15. 'Developer'\n",
       "16. 'Rating'\n",
       "\n",
       "\n"
      ],
      "text/plain": [
       " [1] \"Name\"            \"Platform\"        \"Year_of_Release\" \"Genre\"          \n",
       " [5] \"Publisher\"       \"NA_Sales\"        \"EU_Sales\"        \"JP_Sales\"       \n",
       " [9] \"Other_Sales\"     \"Global_Sales\"    \"Critic_Score\"    \"Critic_Count\"   \n",
       "[13] \"User_Score\"      \"User_Count\"      \"Developer\"       \"Rating\"         "
      ]
     },
     "metadata": {},
     "output_type": "display_data"
    }
   ],
   "source": [
    "names(games_sales)"
   ]
  },
  {
   "cell_type": "markdown",
   "metadata": {},
   "source": [
    "Now lets see what the summary of the dataset is,"
   ]
  },
  {
   "cell_type": "code",
   "execution_count": 4,
   "metadata": {},
   "outputs": [
    {
     "data": {
      "text/plain": [
       "                          Name          Platform    Year_of_Release\n",
       " Need for Speed: Most Wanted:   12   PS2    :2161   2008   :1427   \n",
       " FIFA 14                    :    9   DS     :2152   2009   :1426   \n",
       " LEGO Marvel Super Heroes   :    9   PS3    :1331   2010   :1255   \n",
       " Madden NFL 07              :    9   Wii    :1320   2007   :1197   \n",
       " Ratatouille                :    9   X360   :1262   2011   :1136   \n",
       " Angry Birds Star Wars      :    8   PSP    :1209   2006   :1006   \n",
       " (Other)                    :16663   (Other):7284   (Other):9272   \n",
       "          Genre                             Publisher        NA_Sales      \n",
       " Action      :3370   Electronic Arts             : 1356   Min.   : 0.0000  \n",
       " Sports      :2348   Activision                  :  985   1st Qu.: 0.0000  \n",
       " Misc        :1750   Namco Bandai Games          :  939   Median : 0.0800  \n",
       " Role-Playing:1500   Ubisoft                     :  933   Mean   : 0.2633  \n",
       " Shooter     :1323   Konami Digital Entertainment:  834   3rd Qu.: 0.2400  \n",
       " Adventure   :1303   THQ                         :  715   Max.   :41.3600  \n",
       " (Other)     :5125   (Other)                     :10957                    \n",
       "    EU_Sales         JP_Sales        Other_Sales        Global_Sales    \n",
       " Min.   : 0.000   Min.   : 0.0000   Min.   : 0.00000   Min.   : 0.0100  \n",
       " 1st Qu.: 0.000   1st Qu.: 0.0000   1st Qu.: 0.00000   1st Qu.: 0.0600  \n",
       " Median : 0.020   Median : 0.0000   Median : 0.01000   Median : 0.1700  \n",
       " Mean   : 0.145   Mean   : 0.0776   Mean   : 0.04733   Mean   : 0.5335  \n",
       " 3rd Qu.: 0.110   3rd Qu.: 0.0400   3rd Qu.: 0.03000   3rd Qu.: 0.4700  \n",
       " Max.   :28.960   Max.   :10.2200   Max.   :10.57000   Max.   :82.5300  \n",
       "                                                                        \n",
       "  Critic_Score    Critic_Count      User_Score      User_Count     \n",
       " Min.   :13.00   Min.   :  3.00   Min.   :0.000   Min.   :    4.0  \n",
       " 1st Qu.:60.00   1st Qu.: 12.00   1st Qu.:6.400   1st Qu.:   10.0  \n",
       " Median :71.00   Median : 21.00   Median :7.500   Median :   24.0  \n",
       " Mean   :68.97   Mean   : 26.36   Mean   :7.125   Mean   :  162.2  \n",
       " 3rd Qu.:79.00   3rd Qu.: 36.00   3rd Qu.:8.200   3rd Qu.:   81.0  \n",
       " Max.   :98.00   Max.   :113.00   Max.   :9.700   Max.   :10665.0  \n",
       " NA's   :8582    NA's   :8582     NA's   :9129    NA's   :9129     \n",
       "     Developer        Rating    \n",
       "          :6623          :6769  \n",
       " Ubisoft  : 204   E      :3991  \n",
       " EA Sports: 172   T      :2961  \n",
       " EA Canada: 167   M      :1563  \n",
       " Konami   : 162   E10+   :1420  \n",
       " Capcom   : 139   EC     :   8  \n",
       " (Other)  :9252   (Other):   7  "
      ]
     },
     "metadata": {},
     "output_type": "display_data"
    }
   ],
   "source": [
    "summary(games_sales)"
   ]
  },
  {
   "cell_type": "markdown",
   "metadata": {},
   "source": [
    "Now lets see the number of columns and rows this dataset provides"
   ]
  },
  {
   "cell_type": "code",
   "execution_count": 5,
   "metadata": {},
   "outputs": [
    {
     "name": "stdout",
     "output_type": "stream",
     "text": [
      "Number of Rows:  16719\n",
      "Number of Columns:  16"
     ]
    }
   ],
   "source": [
    "cat (\"Number of Rows: \",nrow(games_sales)) # total numer of rows\n",
    "\n",
    "cat (\"\\nNumber of Columns: \",ncol(games_sales)) # total number of columns"
   ]
  },
  {
   "cell_type": "markdown",
   "metadata": {},
   "source": [
    "## 3. Data Cleaning -"
   ]
  },
  {
   "cell_type": "markdown",
   "metadata": {},
   "source": [
    "In this dataset we don't need to remove any column as all the columns are useful and have relevant information. There are missing values in the developers column and the ratings column which cannot be replaced so instead we remove all the rows that have NA values. Removing the rows with NA values does affect the overall analysis. Removing these values is of importance to this dataset for further analysis to be appropriate. It can be seen that NA values are in the columns with critics and user scores that majorly affect the dataset. Also these NA values cannot be replaced with appropriate values so its better to remove the rows with NA values from the dataset.   \n"
   ]
  },
  {
   "cell_type": "code",
   "execution_count": 6,
   "metadata": {},
   "outputs": [
    {
     "data": {
      "text/html": [
       "<table>\n",
       "<thead><tr><th></th><th scope=col>Name</th><th scope=col>Platform</th><th scope=col>Year_of_Release</th><th scope=col>Genre</th><th scope=col>Publisher</th><th scope=col>NA_Sales</th><th scope=col>EU_Sales</th><th scope=col>JP_Sales</th><th scope=col>Other_Sales</th><th scope=col>Global_Sales</th><th scope=col>Critic_Score</th><th scope=col>Critic_Count</th><th scope=col>User_Score</th><th scope=col>User_Count</th><th scope=col>Developer</th><th scope=col>Rating</th></tr></thead>\n",
       "<tbody>\n",
       "\t<tr><th scope=row>1</th><td>Wii Sports               </td><td>Wii                      </td><td>2006                     </td><td>Sports                   </td><td>Nintendo                 </td><td>41.36                    </td><td>28.96                    </td><td>3.77                     </td><td>8.45                     </td><td>82.53                    </td><td>76                       </td><td>51                       </td><td>8.0                      </td><td>322                      </td><td>Nintendo                 </td><td>E                        </td></tr>\n",
       "\t<tr><th scope=row>3</th><td>Mario Kart Wii           </td><td>Wii                      </td><td>2008                     </td><td>Racing                   </td><td>Nintendo                 </td><td>15.68                    </td><td>12.76                    </td><td>3.79                     </td><td>3.29                     </td><td>35.52                    </td><td>82                       </td><td>73                       </td><td>8.3                      </td><td>709                      </td><td>Nintendo                 </td><td>E                        </td></tr>\n",
       "\t<tr><th scope=row>4</th><td>Wii Sports Resort        </td><td>Wii                      </td><td>2009                     </td><td>Sports                   </td><td>Nintendo                 </td><td>15.61                    </td><td>10.93                    </td><td>3.28                     </td><td>2.95                     </td><td>32.77                    </td><td>80                       </td><td>73                       </td><td>8.0                      </td><td>192                      </td><td>Nintendo                 </td><td>E                        </td></tr>\n",
       "\t<tr><th scope=row>7</th><td>New Super Mario Bros.    </td><td>DS                       </td><td>2006                     </td><td>Platform                 </td><td>Nintendo                 </td><td>11.28                    </td><td> 9.14                    </td><td>6.50                     </td><td>2.88                     </td><td>29.80                    </td><td>89                       </td><td>65                       </td><td>8.5                      </td><td>431                      </td><td>Nintendo                 </td><td>E                        </td></tr>\n",
       "\t<tr><th scope=row>8</th><td>Wii Play                 </td><td>Wii                      </td><td>2006                     </td><td>Misc                     </td><td>Nintendo                 </td><td>13.96                    </td><td> 9.18                    </td><td>2.93                     </td><td>2.84                     </td><td>28.92                    </td><td>58                       </td><td>41                       </td><td>6.6                      </td><td>129                      </td><td>Nintendo                 </td><td>E                        </td></tr>\n",
       "\t<tr><th scope=row>9</th><td>New Super Mario Bros. Wii</td><td>Wii                      </td><td>2009                     </td><td>Platform                 </td><td>Nintendo                 </td><td>14.44                    </td><td> 6.94                    </td><td>4.70                     </td><td>2.24                     </td><td>28.32                    </td><td>87                       </td><td>80                       </td><td>8.4                      </td><td>594                      </td><td>Nintendo                 </td><td>E                        </td></tr>\n",
       "</tbody>\n",
       "</table>\n"
      ],
      "text/latex": [
       "\\begin{tabular}{r|llllllllllllllll}\n",
       "  & Name & Platform & Year\\_of\\_Release & Genre & Publisher & NA\\_Sales & EU\\_Sales & JP\\_Sales & Other\\_Sales & Global\\_Sales & Critic\\_Score & Critic\\_Count & User\\_Score & User\\_Count & Developer & Rating\\\\\n",
       "\\hline\n",
       "\t1 & Wii Sports                & Wii                       & 2006                      & Sports                    & Nintendo                  & 41.36                     & 28.96                     & 3.77                      & 8.45                      & 82.53                     & 76                        & 51                        & 8.0                       & 322                       & Nintendo                  & E                        \\\\\n",
       "\t3 & Mario Kart Wii            & Wii                       & 2008                      & Racing                    & Nintendo                  & 15.68                     & 12.76                     & 3.79                      & 3.29                      & 35.52                     & 82                        & 73                        & 8.3                       & 709                       & Nintendo                  & E                        \\\\\n",
       "\t4 & Wii Sports Resort         & Wii                       & 2009                      & Sports                    & Nintendo                  & 15.61                     & 10.93                     & 3.28                      & 2.95                      & 32.77                     & 80                        & 73                        & 8.0                       & 192                       & Nintendo                  & E                        \\\\\n",
       "\t7 & New Super Mario Bros.     & DS                        & 2006                      & Platform                  & Nintendo                  & 11.28                     &  9.14                     & 6.50                      & 2.88                      & 29.80                     & 89                        & 65                        & 8.5                       & 431                       & Nintendo                  & E                        \\\\\n",
       "\t8 & Wii Play                  & Wii                       & 2006                      & Misc                      & Nintendo                  & 13.96                     &  9.18                     & 2.93                      & 2.84                      & 28.92                     & 58                        & 41                        & 6.6                       & 129                       & Nintendo                  & E                        \\\\\n",
       "\t9 & New Super Mario Bros. Wii & Wii                       & 2009                      & Platform                  & Nintendo                  & 14.44                     &  6.94                     & 4.70                      & 2.24                      & 28.32                     & 87                        & 80                        & 8.4                       & 594                       & Nintendo                  & E                        \\\\\n",
       "\\end{tabular}\n"
      ],
      "text/markdown": [
       "\n",
       "| <!--/--> | Name | Platform | Year_of_Release | Genre | Publisher | NA_Sales | EU_Sales | JP_Sales | Other_Sales | Global_Sales | Critic_Score | Critic_Count | User_Score | User_Count | Developer | Rating |\n",
       "|---|---|---|---|---|---|---|---|---|---|---|---|---|---|---|---|---|\n",
       "| 1 | Wii Sports                | Wii                       | 2006                      | Sports                    | Nintendo                  | 41.36                     | 28.96                     | 3.77                      | 8.45                      | 82.53                     | 76                        | 51                        | 8.0                       | 322                       | Nintendo                  | E                         |\n",
       "| 3 | Mario Kart Wii            | Wii                       | 2008                      | Racing                    | Nintendo                  | 15.68                     | 12.76                     | 3.79                      | 3.29                      | 35.52                     | 82                        | 73                        | 8.3                       | 709                       | Nintendo                  | E                         |\n",
       "| 4 | Wii Sports Resort         | Wii                       | 2009                      | Sports                    | Nintendo                  | 15.61                     | 10.93                     | 3.28                      | 2.95                      | 32.77                     | 80                        | 73                        | 8.0                       | 192                       | Nintendo                  | E                         |\n",
       "| 7 | New Super Mario Bros.     | DS                        | 2006                      | Platform                  | Nintendo                  | 11.28                     |  9.14                     | 6.50                      | 2.88                      | 29.80                     | 89                        | 65                        | 8.5                       | 431                       | Nintendo                  | E                         |\n",
       "| 8 | Wii Play                  | Wii                       | 2006                      | Misc                      | Nintendo                  | 13.96                     |  9.18                     | 2.93                      | 2.84                      | 28.92                     | 58                        | 41                        | 6.6                       | 129                       | Nintendo                  | E                         |\n",
       "| 9 | New Super Mario Bros. Wii | Wii                       | 2009                      | Platform                  | Nintendo                  | 14.44                     |  6.94                     | 4.70                      | 2.24                      | 28.32                     | 87                        | 80                        | 8.4                       | 594                       | Nintendo                  | E                         |\n",
       "\n"
      ],
      "text/plain": [
       "  Name                      Platform Year_of_Release Genre    Publisher\n",
       "1 Wii Sports                Wii      2006            Sports   Nintendo \n",
       "3 Mario Kart Wii            Wii      2008            Racing   Nintendo \n",
       "4 Wii Sports Resort         Wii      2009            Sports   Nintendo \n",
       "7 New Super Mario Bros.     DS       2006            Platform Nintendo \n",
       "8 Wii Play                  Wii      2006            Misc     Nintendo \n",
       "9 New Super Mario Bros. Wii Wii      2009            Platform Nintendo \n",
       "  NA_Sales EU_Sales JP_Sales Other_Sales Global_Sales Critic_Score Critic_Count\n",
       "1 41.36    28.96    3.77     8.45        82.53        76           51          \n",
       "3 15.68    12.76    3.79     3.29        35.52        82           73          \n",
       "4 15.61    10.93    3.28     2.95        32.77        80           73          \n",
       "7 11.28     9.14    6.50     2.88        29.80        89           65          \n",
       "8 13.96     9.18    2.93     2.84        28.92        58           41          \n",
       "9 14.44     6.94    4.70     2.24        28.32        87           80          \n",
       "  User_Score User_Count Developer Rating\n",
       "1 8.0        322        Nintendo  E     \n",
       "3 8.3        709        Nintendo  E     \n",
       "4 8.0        192        Nintendo  E     \n",
       "7 8.5        431        Nintendo  E     \n",
       "8 6.6        129        Nintendo  E     \n",
       "9 8.4        594        Nintendo  E     "
      ]
     },
     "metadata": {},
     "output_type": "display_data"
    },
    {
     "data": {
      "text/html": [
       "7017"
      ],
      "text/latex": [
       "7017"
      ],
      "text/markdown": [
       "7017"
      ],
      "text/plain": [
       "[1] 7017"
      ]
     },
     "metadata": {},
     "output_type": "display_data"
    }
   ],
   "source": [
    "games <- na.omit(games_sales)\n",
    "head(games)\n",
    "nrow(games)"
   ]
  },
  {
   "cell_type": "markdown",
   "metadata": {},
   "source": [
    "## 4. Adaptation -"
   ]
  },
  {
   "cell_type": "markdown",
   "metadata": {},
   "source": [
    "For better analysis we create two more columns based on the data we already have. Our first new column is mean of critic and user score and the second new column displays value of true for global sales above the mean of the global sales column and false for values below the mean of the global sales column. \n"
   ]
  },
  {
   "cell_type": "code",
   "execution_count": 7,
   "metadata": {},
   "outputs": [],
   "source": [
    "games$meanCU <- (games$Critic_Score + games$User_Score)/2 "
   ]
  },
  {
   "cell_type": "code",
   "execution_count": 8,
   "metadata": {},
   "outputs": [
    {
     "data": {
      "text/html": [
       "<table>\n",
       "<thead><tr><th></th><th scope=col>Name</th><th scope=col>Platform</th><th scope=col>Year_of_Release</th><th scope=col>Genre</th><th scope=col>Publisher</th><th scope=col>NA_Sales</th><th scope=col>EU_Sales</th><th scope=col>JP_Sales</th><th scope=col>Other_Sales</th><th scope=col>Global_Sales</th><th scope=col>Critic_Score</th><th scope=col>Critic_Count</th><th scope=col>User_Score</th><th scope=col>User_Count</th><th scope=col>Developer</th><th scope=col>Rating</th><th scope=col>meanCU</th></tr></thead>\n",
       "<tbody>\n",
       "\t<tr><th scope=row>1</th><td>Wii Sports               </td><td>Wii                      </td><td>2006                     </td><td>Sports                   </td><td>Nintendo                 </td><td>41.36                    </td><td>28.96                    </td><td>3.77                     </td><td>8.45                     </td><td>82.53                    </td><td>76                       </td><td>51                       </td><td>8.0                      </td><td>322                      </td><td>Nintendo                 </td><td>E                        </td><td>42.00                    </td></tr>\n",
       "\t<tr><th scope=row>3</th><td>Mario Kart Wii           </td><td>Wii                      </td><td>2008                     </td><td>Racing                   </td><td>Nintendo                 </td><td>15.68                    </td><td>12.76                    </td><td>3.79                     </td><td>3.29                     </td><td>35.52                    </td><td>82                       </td><td>73                       </td><td>8.3                      </td><td>709                      </td><td>Nintendo                 </td><td>E                        </td><td>45.15                    </td></tr>\n",
       "\t<tr><th scope=row>4</th><td>Wii Sports Resort        </td><td>Wii                      </td><td>2009                     </td><td>Sports                   </td><td>Nintendo                 </td><td>15.61                    </td><td>10.93                    </td><td>3.28                     </td><td>2.95                     </td><td>32.77                    </td><td>80                       </td><td>73                       </td><td>8.0                      </td><td>192                      </td><td>Nintendo                 </td><td>E                        </td><td>44.00                    </td></tr>\n",
       "\t<tr><th scope=row>7</th><td>New Super Mario Bros.    </td><td>DS                       </td><td>2006                     </td><td>Platform                 </td><td>Nintendo                 </td><td>11.28                    </td><td> 9.14                    </td><td>6.50                     </td><td>2.88                     </td><td>29.80                    </td><td>89                       </td><td>65                       </td><td>8.5                      </td><td>431                      </td><td>Nintendo                 </td><td>E                        </td><td>48.75                    </td></tr>\n",
       "\t<tr><th scope=row>8</th><td>Wii Play                 </td><td>Wii                      </td><td>2006                     </td><td>Misc                     </td><td>Nintendo                 </td><td>13.96                    </td><td> 9.18                    </td><td>2.93                     </td><td>2.84                     </td><td>28.92                    </td><td>58                       </td><td>41                       </td><td>6.6                      </td><td>129                      </td><td>Nintendo                 </td><td>E                        </td><td>32.30                    </td></tr>\n",
       "\t<tr><th scope=row>9</th><td>New Super Mario Bros. Wii</td><td>Wii                      </td><td>2009                     </td><td>Platform                 </td><td>Nintendo                 </td><td>14.44                    </td><td> 6.94                    </td><td>4.70                     </td><td>2.24                     </td><td>28.32                    </td><td>87                       </td><td>80                       </td><td>8.4                      </td><td>594                      </td><td>Nintendo                 </td><td>E                        </td><td>47.70                    </td></tr>\n",
       "</tbody>\n",
       "</table>\n"
      ],
      "text/latex": [
       "\\begin{tabular}{r|lllllllllllllllll}\n",
       "  & Name & Platform & Year\\_of\\_Release & Genre & Publisher & NA\\_Sales & EU\\_Sales & JP\\_Sales & Other\\_Sales & Global\\_Sales & Critic\\_Score & Critic\\_Count & User\\_Score & User\\_Count & Developer & Rating & meanCU\\\\\n",
       "\\hline\n",
       "\t1 & Wii Sports                & Wii                       & 2006                      & Sports                    & Nintendo                  & 41.36                     & 28.96                     & 3.77                      & 8.45                      & 82.53                     & 76                        & 51                        & 8.0                       & 322                       & Nintendo                  & E                         & 42.00                    \\\\\n",
       "\t3 & Mario Kart Wii            & Wii                       & 2008                      & Racing                    & Nintendo                  & 15.68                     & 12.76                     & 3.79                      & 3.29                      & 35.52                     & 82                        & 73                        & 8.3                       & 709                       & Nintendo                  & E                         & 45.15                    \\\\\n",
       "\t4 & Wii Sports Resort         & Wii                       & 2009                      & Sports                    & Nintendo                  & 15.61                     & 10.93                     & 3.28                      & 2.95                      & 32.77                     & 80                        & 73                        & 8.0                       & 192                       & Nintendo                  & E                         & 44.00                    \\\\\n",
       "\t7 & New Super Mario Bros.     & DS                        & 2006                      & Platform                  & Nintendo                  & 11.28                     &  9.14                     & 6.50                      & 2.88                      & 29.80                     & 89                        & 65                        & 8.5                       & 431                       & Nintendo                  & E                         & 48.75                    \\\\\n",
       "\t8 & Wii Play                  & Wii                       & 2006                      & Misc                      & Nintendo                  & 13.96                     &  9.18                     & 2.93                      & 2.84                      & 28.92                     & 58                        & 41                        & 6.6                       & 129                       & Nintendo                  & E                         & 32.30                    \\\\\n",
       "\t9 & New Super Mario Bros. Wii & Wii                       & 2009                      & Platform                  & Nintendo                  & 14.44                     &  6.94                     & 4.70                      & 2.24                      & 28.32                     & 87                        & 80                        & 8.4                       & 594                       & Nintendo                  & E                         & 47.70                    \\\\\n",
       "\\end{tabular}\n"
      ],
      "text/markdown": [
       "\n",
       "| <!--/--> | Name | Platform | Year_of_Release | Genre | Publisher | NA_Sales | EU_Sales | JP_Sales | Other_Sales | Global_Sales | Critic_Score | Critic_Count | User_Score | User_Count | Developer | Rating | meanCU |\n",
       "|---|---|---|---|---|---|---|---|---|---|---|---|---|---|---|---|---|---|\n",
       "| 1 | Wii Sports                | Wii                       | 2006                      | Sports                    | Nintendo                  | 41.36                     | 28.96                     | 3.77                      | 8.45                      | 82.53                     | 76                        | 51                        | 8.0                       | 322                       | Nintendo                  | E                         | 42.00                     |\n",
       "| 3 | Mario Kart Wii            | Wii                       | 2008                      | Racing                    | Nintendo                  | 15.68                     | 12.76                     | 3.79                      | 3.29                      | 35.52                     | 82                        | 73                        | 8.3                       | 709                       | Nintendo                  | E                         | 45.15                     |\n",
       "| 4 | Wii Sports Resort         | Wii                       | 2009                      | Sports                    | Nintendo                  | 15.61                     | 10.93                     | 3.28                      | 2.95                      | 32.77                     | 80                        | 73                        | 8.0                       | 192                       | Nintendo                  | E                         | 44.00                     |\n",
       "| 7 | New Super Mario Bros.     | DS                        | 2006                      | Platform                  | Nintendo                  | 11.28                     |  9.14                     | 6.50                      | 2.88                      | 29.80                     | 89                        | 65                        | 8.5                       | 431                       | Nintendo                  | E                         | 48.75                     |\n",
       "| 8 | Wii Play                  | Wii                       | 2006                      | Misc                      | Nintendo                  | 13.96                     |  9.18                     | 2.93                      | 2.84                      | 28.92                     | 58                        | 41                        | 6.6                       | 129                       | Nintendo                  | E                         | 32.30                     |\n",
       "| 9 | New Super Mario Bros. Wii | Wii                       | 2009                      | Platform                  | Nintendo                  | 14.44                     |  6.94                     | 4.70                      | 2.24                      | 28.32                     | 87                        | 80                        | 8.4                       | 594                       | Nintendo                  | E                         | 47.70                     |\n",
       "\n"
      ],
      "text/plain": [
       "  Name                      Platform Year_of_Release Genre    Publisher\n",
       "1 Wii Sports                Wii      2006            Sports   Nintendo \n",
       "3 Mario Kart Wii            Wii      2008            Racing   Nintendo \n",
       "4 Wii Sports Resort         Wii      2009            Sports   Nintendo \n",
       "7 New Super Mario Bros.     DS       2006            Platform Nintendo \n",
       "8 Wii Play                  Wii      2006            Misc     Nintendo \n",
       "9 New Super Mario Bros. Wii Wii      2009            Platform Nintendo \n",
       "  NA_Sales EU_Sales JP_Sales Other_Sales Global_Sales Critic_Score Critic_Count\n",
       "1 41.36    28.96    3.77     8.45        82.53        76           51          \n",
       "3 15.68    12.76    3.79     3.29        35.52        82           73          \n",
       "4 15.61    10.93    3.28     2.95        32.77        80           73          \n",
       "7 11.28     9.14    6.50     2.88        29.80        89           65          \n",
       "8 13.96     9.18    2.93     2.84        28.92        58           41          \n",
       "9 14.44     6.94    4.70     2.24        28.32        87           80          \n",
       "  User_Score User_Count Developer Rating meanCU\n",
       "1 8.0        322        Nintendo  E      42.00 \n",
       "3 8.3        709        Nintendo  E      45.15 \n",
       "4 8.0        192        Nintendo  E      44.00 \n",
       "7 8.5        431        Nintendo  E      48.75 \n",
       "8 6.6        129        Nintendo  E      32.30 \n",
       "9 8.4        594        Nintendo  E      47.70 "
      ]
     },
     "metadata": {},
     "output_type": "display_data"
    }
   ],
   "source": [
    "head(games)"
   ]
  },
  {
   "cell_type": "markdown",
   "metadata": {},
   "source": [
    "For the second column we will need the mean of the global sales values."
   ]
  },
  {
   "cell_type": "code",
   "execution_count": 9,
   "metadata": {},
   "outputs": [
    {
     "data": {
      "text/html": [
       "0.767048596266211"
      ],
      "text/latex": [
       "0.767048596266211"
      ],
      "text/markdown": [
       "0.767048596266211"
      ],
      "text/plain": [
       "[1] 0.7670486"
      ]
     },
     "metadata": {},
     "output_type": "display_data"
    }
   ],
   "source": [
    "mean(games$Global_Sales)"
   ]
  },
  {
   "cell_type": "markdown",
   "metadata": {},
   "source": [
    "Now we will make a column which include the indication if the value in the global sales is greater or lower than the mean of the total values."
   ]
  },
  {
   "cell_type": "code",
   "execution_count": 10,
   "metadata": {},
   "outputs": [
    {
     "data": {
      "text/html": [
       "<table>\n",
       "<thead><tr><th></th><th scope=col>Name</th><th scope=col>Platform</th><th scope=col>Year_of_Release</th><th scope=col>Genre</th><th scope=col>Publisher</th><th scope=col>NA_Sales</th><th scope=col>EU_Sales</th><th scope=col>JP_Sales</th><th scope=col>Other_Sales</th><th scope=col>Global_Sales</th><th scope=col>Critic_Score</th><th scope=col>Critic_Count</th><th scope=col>User_Score</th><th scope=col>User_Count</th><th scope=col>Developer</th><th scope=col>Rating</th><th scope=col>meanCU</th><th scope=col>high_lowScore</th></tr></thead>\n",
       "<tbody>\n",
       "\t<tr><th scope=row>1</th><td>Wii Sports               </td><td>Wii                      </td><td>2006                     </td><td>Sports                   </td><td>Nintendo                 </td><td>41.36                    </td><td>28.96                    </td><td>3.77                     </td><td>8.45                     </td><td>82.53                    </td><td>76                       </td><td>51                       </td><td>8.0                      </td><td>322                      </td><td>Nintendo                 </td><td>E                        </td><td>42.00                    </td><td>TRUE                     </td></tr>\n",
       "\t<tr><th scope=row>3</th><td>Mario Kart Wii           </td><td>Wii                      </td><td>2008                     </td><td>Racing                   </td><td>Nintendo                 </td><td>15.68                    </td><td>12.76                    </td><td>3.79                     </td><td>3.29                     </td><td>35.52                    </td><td>82                       </td><td>73                       </td><td>8.3                      </td><td>709                      </td><td>Nintendo                 </td><td>E                        </td><td>45.15                    </td><td>TRUE                     </td></tr>\n",
       "\t<tr><th scope=row>4</th><td>Wii Sports Resort        </td><td>Wii                      </td><td>2009                     </td><td>Sports                   </td><td>Nintendo                 </td><td>15.61                    </td><td>10.93                    </td><td>3.28                     </td><td>2.95                     </td><td>32.77                    </td><td>80                       </td><td>73                       </td><td>8.0                      </td><td>192                      </td><td>Nintendo                 </td><td>E                        </td><td>44.00                    </td><td>TRUE                     </td></tr>\n",
       "\t<tr><th scope=row>7</th><td>New Super Mario Bros.    </td><td>DS                       </td><td>2006                     </td><td>Platform                 </td><td>Nintendo                 </td><td>11.28                    </td><td> 9.14                    </td><td>6.50                     </td><td>2.88                     </td><td>29.80                    </td><td>89                       </td><td>65                       </td><td>8.5                      </td><td>431                      </td><td>Nintendo                 </td><td>E                        </td><td>48.75                    </td><td>TRUE                     </td></tr>\n",
       "\t<tr><th scope=row>8</th><td>Wii Play                 </td><td>Wii                      </td><td>2006                     </td><td>Misc                     </td><td>Nintendo                 </td><td>13.96                    </td><td> 9.18                    </td><td>2.93                     </td><td>2.84                     </td><td>28.92                    </td><td>58                       </td><td>41                       </td><td>6.6                      </td><td>129                      </td><td>Nintendo                 </td><td>E                        </td><td>32.30                    </td><td>TRUE                     </td></tr>\n",
       "\t<tr><th scope=row>9</th><td>New Super Mario Bros. Wii</td><td>Wii                      </td><td>2009                     </td><td>Platform                 </td><td>Nintendo                 </td><td>14.44                    </td><td> 6.94                    </td><td>4.70                     </td><td>2.24                     </td><td>28.32                    </td><td>87                       </td><td>80                       </td><td>8.4                      </td><td>594                      </td><td>Nintendo                 </td><td>E                        </td><td>47.70                    </td><td>TRUE                     </td></tr>\n",
       "</tbody>\n",
       "</table>\n"
      ],
      "text/latex": [
       "\\begin{tabular}{r|llllllllllllllllll}\n",
       "  & Name & Platform & Year\\_of\\_Release & Genre & Publisher & NA\\_Sales & EU\\_Sales & JP\\_Sales & Other\\_Sales & Global\\_Sales & Critic\\_Score & Critic\\_Count & User\\_Score & User\\_Count & Developer & Rating & meanCU & high\\_lowScore\\\\\n",
       "\\hline\n",
       "\t1 & Wii Sports                & Wii                       & 2006                      & Sports                    & Nintendo                  & 41.36                     & 28.96                     & 3.77                      & 8.45                      & 82.53                     & 76                        & 51                        & 8.0                       & 322                       & Nintendo                  & E                         & 42.00                     & TRUE                     \\\\\n",
       "\t3 & Mario Kart Wii            & Wii                       & 2008                      & Racing                    & Nintendo                  & 15.68                     & 12.76                     & 3.79                      & 3.29                      & 35.52                     & 82                        & 73                        & 8.3                       & 709                       & Nintendo                  & E                         & 45.15                     & TRUE                     \\\\\n",
       "\t4 & Wii Sports Resort         & Wii                       & 2009                      & Sports                    & Nintendo                  & 15.61                     & 10.93                     & 3.28                      & 2.95                      & 32.77                     & 80                        & 73                        & 8.0                       & 192                       & Nintendo                  & E                         & 44.00                     & TRUE                     \\\\\n",
       "\t7 & New Super Mario Bros.     & DS                        & 2006                      & Platform                  & Nintendo                  & 11.28                     &  9.14                     & 6.50                      & 2.88                      & 29.80                     & 89                        & 65                        & 8.5                       & 431                       & Nintendo                  & E                         & 48.75                     & TRUE                     \\\\\n",
       "\t8 & Wii Play                  & Wii                       & 2006                      & Misc                      & Nintendo                  & 13.96                     &  9.18                     & 2.93                      & 2.84                      & 28.92                     & 58                        & 41                        & 6.6                       & 129                       & Nintendo                  & E                         & 32.30                     & TRUE                     \\\\\n",
       "\t9 & New Super Mario Bros. Wii & Wii                       & 2009                      & Platform                  & Nintendo                  & 14.44                     &  6.94                     & 4.70                      & 2.24                      & 28.32                     & 87                        & 80                        & 8.4                       & 594                       & Nintendo                  & E                         & 47.70                     & TRUE                     \\\\\n",
       "\\end{tabular}\n"
      ],
      "text/markdown": [
       "\n",
       "| <!--/--> | Name | Platform | Year_of_Release | Genre | Publisher | NA_Sales | EU_Sales | JP_Sales | Other_Sales | Global_Sales | Critic_Score | Critic_Count | User_Score | User_Count | Developer | Rating | meanCU | high_lowScore |\n",
       "|---|---|---|---|---|---|---|---|---|---|---|---|---|---|---|---|---|---|---|\n",
       "| 1 | Wii Sports                | Wii                       | 2006                      | Sports                    | Nintendo                  | 41.36                     | 28.96                     | 3.77                      | 8.45                      | 82.53                     | 76                        | 51                        | 8.0                       | 322                       | Nintendo                  | E                         | 42.00                     | TRUE                      |\n",
       "| 3 | Mario Kart Wii            | Wii                       | 2008                      | Racing                    | Nintendo                  | 15.68                     | 12.76                     | 3.79                      | 3.29                      | 35.52                     | 82                        | 73                        | 8.3                       | 709                       | Nintendo                  | E                         | 45.15                     | TRUE                      |\n",
       "| 4 | Wii Sports Resort         | Wii                       | 2009                      | Sports                    | Nintendo                  | 15.61                     | 10.93                     | 3.28                      | 2.95                      | 32.77                     | 80                        | 73                        | 8.0                       | 192                       | Nintendo                  | E                         | 44.00                     | TRUE                      |\n",
       "| 7 | New Super Mario Bros.     | DS                        | 2006                      | Platform                  | Nintendo                  | 11.28                     |  9.14                     | 6.50                      | 2.88                      | 29.80                     | 89                        | 65                        | 8.5                       | 431                       | Nintendo                  | E                         | 48.75                     | TRUE                      |\n",
       "| 8 | Wii Play                  | Wii                       | 2006                      | Misc                      | Nintendo                  | 13.96                     |  9.18                     | 2.93                      | 2.84                      | 28.92                     | 58                        | 41                        | 6.6                       | 129                       | Nintendo                  | E                         | 32.30                     | TRUE                      |\n",
       "| 9 | New Super Mario Bros. Wii | Wii                       | 2009                      | Platform                  | Nintendo                  | 14.44                     |  6.94                     | 4.70                      | 2.24                      | 28.32                     | 87                        | 80                        | 8.4                       | 594                       | Nintendo                  | E                         | 47.70                     | TRUE                      |\n",
       "\n"
      ],
      "text/plain": [
       "  Name                      Platform Year_of_Release Genre    Publisher\n",
       "1 Wii Sports                Wii      2006            Sports   Nintendo \n",
       "3 Mario Kart Wii            Wii      2008            Racing   Nintendo \n",
       "4 Wii Sports Resort         Wii      2009            Sports   Nintendo \n",
       "7 New Super Mario Bros.     DS       2006            Platform Nintendo \n",
       "8 Wii Play                  Wii      2006            Misc     Nintendo \n",
       "9 New Super Mario Bros. Wii Wii      2009            Platform Nintendo \n",
       "  NA_Sales EU_Sales JP_Sales Other_Sales Global_Sales Critic_Score Critic_Count\n",
       "1 41.36    28.96    3.77     8.45        82.53        76           51          \n",
       "3 15.68    12.76    3.79     3.29        35.52        82           73          \n",
       "4 15.61    10.93    3.28     2.95        32.77        80           73          \n",
       "7 11.28     9.14    6.50     2.88        29.80        89           65          \n",
       "8 13.96     9.18    2.93     2.84        28.92        58           41          \n",
       "9 14.44     6.94    4.70     2.24        28.32        87           80          \n",
       "  User_Score User_Count Developer Rating meanCU high_lowScore\n",
       "1 8.0        322        Nintendo  E      42.00  TRUE         \n",
       "3 8.3        709        Nintendo  E      45.15  TRUE         \n",
       "4 8.0        192        Nintendo  E      44.00  TRUE         \n",
       "7 8.5        431        Nintendo  E      48.75  TRUE         \n",
       "8 6.6        129        Nintendo  E      32.30  TRUE         \n",
       "9 8.4        594        Nintendo  E      47.70  TRUE         "
      ]
     },
     "metadata": {},
     "output_type": "display_data"
    }
   ],
   "source": [
    "games$high_lowScore=games$Global_Sales>0.767 \n",
    "head(games)"
   ]
  },
  {
   "cell_type": "markdown",
   "metadata": {},
   "source": [
    "Below we install the package ggplot2"
   ]
  },
  {
   "cell_type": "code",
   "execution_count": 11,
   "metadata": {},
   "outputs": [
    {
     "name": "stderr",
     "output_type": "stream",
     "text": [
      "Installing package into 'C:/Users/Prachi/Documents/R/win-library/3.6'\n",
      "(as 'lib' is unspecified)\n"
     ]
    },
    {
     "name": "stdout",
     "output_type": "stream",
     "text": [
      "package 'ggplot2' successfully unpacked and MD5 sums checked\n",
      "\n",
      "The downloaded binary packages are in\n",
      "\tC:\\Users\\Prachi\\AppData\\Local\\Temp\\RtmpyEyGAb\\downloaded_packages\n"
     ]
    }
   ],
   "source": [
    "install.packages(\"ggplot2\")"
   ]
  },
  {
   "cell_type": "markdown",
   "metadata": {},
   "source": [
    "We now call the library ggplot2 for further use."
   ]
  },
  {
   "cell_type": "code",
   "execution_count": 12,
   "metadata": {},
   "outputs": [
    {
     "name": "stderr",
     "output_type": "stream",
     "text": [
      "Loading required package: ggplot2\n"
     ]
    }
   ],
   "source": [
    "require(ggplot2)"
   ]
  },
  {
   "cell_type": "markdown",
   "metadata": {},
   "source": [
    "Here we change the User Score column type to numeric from character."
   ]
  },
  {
   "cell_type": "code",
   "execution_count": 13,
   "metadata": {},
   "outputs": [],
   "source": [
    "games$User_Score <- as.numeric(as.character(games$User_Score))"
   ]
  },
  {
   "cell_type": "markdown",
   "metadata": {},
   "source": [
    "Here we change the User Count column type to numeric from character."
   ]
  },
  {
   "cell_type": "code",
   "execution_count": 14,
   "metadata": {},
   "outputs": [],
   "source": [
    "games$User_Count <- as.numeric(as.character(games$User_Count))"
   ]
  },
  {
   "cell_type": "code",
   "execution_count": 15,
   "metadata": {},
   "outputs": [
    {
     "name": "stdout",
     "output_type": "stream",
     "text": [
      "'data.frame':\t7017 obs. of  18 variables:\n",
      " $ Name           : Factor w/ 11563 levels \"\",\"'98 Koshien\",..: 11059 5573 11061 6693 11057 6696 5572 11051 4966 11052 ...\n",
      " $ Platform       : Factor w/ 31 levels \"2600\",\"3DO\",\"3DS\",..: 26 26 26 5 26 26 5 26 29 26 ...\n",
      " $ Year_of_Release: Factor w/ 40 levels \"1980\",\"1981\",..: 27 29 30 27 27 30 26 28 31 30 ...\n",
      " $ Genre          : Factor w/ 13 levels \"\",\"Action\",\"Adventure\",..: 12 8 12 6 5 6 8 12 5 12 ...\n",
      " $ Publisher      : Factor w/ 583 levels \"10TACLE Studios\",..: 371 371 371 371 371 371 371 371 330 371 ...\n",
      " $ NA_Sales       : num  41.4 15.7 15.6 11.3 14 ...\n",
      " $ EU_Sales       : num  28.96 12.76 10.93 9.14 9.18 ...\n",
      " $ JP_Sales       : num  3.77 3.79 3.28 6.5 2.93 4.7 4.13 3.6 0.24 2.53 ...\n",
      " $ Other_Sales    : num  8.45 3.29 2.95 2.88 2.84 2.24 1.9 2.15 1.69 1.77 ...\n",
      " $ Global_Sales   : num  82.5 35.5 32.8 29.8 28.9 ...\n",
      " $ Critic_Score   : int  76 82 80 89 58 87 91 80 61 80 ...\n",
      " $ Critic_Count   : int  51 73 73 65 41 80 64 63 45 33 ...\n",
      " $ User_Score     : num  8 8.3 8 8.5 6.6 8.4 8.6 7.7 6.3 7.4 ...\n",
      " $ User_Count     : num  322 709 192 431 129 594 464 146 106 52 ...\n",
      " $ Developer      : Factor w/ 1697 levels \"\",\"10tacle Studios\",..: 1035 1035 1035 1035 1035 1035 1035 1035 621 1035 ...\n",
      " $ Rating         : Factor w/ 9 levels \"\",\"AO\",\"E\",\"E10+\",..: 3 3 3 3 3 3 3 3 3 3 ...\n",
      " $ meanCU         : num  42 45.1 44 48.8 32.3 ...\n",
      " $ high_lowScore  : logi  TRUE TRUE TRUE TRUE TRUE TRUE ...\n",
      " - attr(*, \"na.action\")= 'omit' Named int  2 5 6 10 11 13 19 21 22 23 ...\n",
      "  ..- attr(*, \"names\")= chr  \"2\" \"5\" \"6\" \"10\" ...\n"
     ]
    }
   ],
   "source": [
    "str(games)"
   ]
  },
  {
   "cell_type": "markdown",
   "metadata": {},
   "source": [
    "## Visualization"
   ]
  },
  {
   "cell_type": "markdown",
   "metadata": {},
   "source": [
    "### 5. Descriptive Visualization"
   ]
  },
  {
   "cell_type": "markdown",
   "metadata": {},
   "source": [
    "For visualization we need certain libraries to be installed."
   ]
  },
  {
   "cell_type": "markdown",
   "metadata": {},
   "source": [
    "We install the package ggpubr."
   ]
  },
  {
   "cell_type": "code",
   "execution_count": 16,
   "metadata": {},
   "outputs": [
    {
     "name": "stderr",
     "output_type": "stream",
     "text": [
      "Installing package into 'C:/Users/Prachi/Documents/R/win-library/3.6'\n",
      "(as 'lib' is unspecified)\n"
     ]
    },
    {
     "name": "stdout",
     "output_type": "stream",
     "text": [
      "package 'ggpubr' successfully unpacked and MD5 sums checked\n",
      "\n",
      "The downloaded binary packages are in\n",
      "\tC:\\Users\\Prachi\\AppData\\Local\\Temp\\RtmpyEyGAb\\downloaded_packages\n"
     ]
    }
   ],
   "source": [
    "install.packages(\"ggpubr\")"
   ]
  },
  {
   "cell_type": "markdown",
   "metadata": {},
   "source": [
    "Call the library ggpubr."
   ]
  },
  {
   "cell_type": "code",
   "execution_count": 17,
   "metadata": {},
   "outputs": [
    {
     "name": "stderr",
     "output_type": "stream",
     "text": [
      "Loading required package: ggpubr\n",
      "Loading required package: magrittr\n"
     ]
    }
   ],
   "source": [
    "require(ggpubr)"
   ]
  },
  {
   "cell_type": "markdown",
   "metadata": {},
   "source": [
    "Install the package psych."
   ]
  },
  {
   "cell_type": "code",
   "execution_count": 18,
   "metadata": {},
   "outputs": [
    {
     "name": "stderr",
     "output_type": "stream",
     "text": [
      "Installing package into 'C:/Users/Prachi/Documents/R/win-library/3.6'\n",
      "(as 'lib' is unspecified)\n"
     ]
    },
    {
     "name": "stdout",
     "output_type": "stream",
     "text": [
      "package 'psych' successfully unpacked and MD5 sums checked\n",
      "\n",
      "The downloaded binary packages are in\n",
      "\tC:\\Users\\Prachi\\AppData\\Local\\Temp\\RtmpyEyGAb\\downloaded_packages\n"
     ]
    }
   ],
   "source": [
    "install.packages(\"psych\")"
   ]
  },
  {
   "cell_type": "markdown",
   "metadata": {},
   "source": [
    "Call the library psych for further use."
   ]
  },
  {
   "cell_type": "code",
   "execution_count": 19,
   "metadata": {},
   "outputs": [
    {
     "name": "stderr",
     "output_type": "stream",
     "text": [
      "Loading required package: psych\n",
      "\n",
      "Attaching package: 'psych'\n",
      "\n",
      "The following objects are masked from 'package:ggplot2':\n",
      "\n",
      "    %+%, alpha\n",
      "\n"
     ]
    }
   ],
   "source": [
    "require(psych)"
   ]
  },
  {
   "cell_type": "markdown",
   "metadata": {},
   "source": [
    "Below we plot the ggqqplot graph of global sales. The below plot shows the normality of the Global sales data. It showsus that Global sales data is not normal."
   ]
  },
  {
   "cell_type": "code",
   "execution_count": 20,
   "metadata": {},
   "outputs": [
    {
     "data": {
      "image/png": "[encoded data removed]",
      "text/plain": [
       "plot without title"
      ]
     },
     "metadata": {},
     "output_type": "display_data"
    }
   ],
   "source": [
    "ggqqplot(games$Global_Sales, ylab = \"Global Sales\")"
   ]
  },
  {
   "cell_type": "markdown",
   "metadata": {},
   "source": [
    "Below we plot the ggqqplot graph of meanCU. The below graph shows us if coloumn of mean of both user and critic scores is normal. "
   ]
  },
  {
   "cell_type": "code",
   "execution_count": 21,
   "metadata": {},
   "outputs": [
    {
     "data": {
      "image/png": "[encoded data removed]",
      "text/plain": [
       "plot without title"
      ]
     },
     "metadata": {},
     "output_type": "display_data"
    }
   ],
   "source": [
    "ggqqplot(games$meanCU, ylab = \"Mean CU\") "
   ]
  },
  {
   "cell_type": "markdown",
   "metadata": {},
   "source": [
    "Below we plot the qplot graph of User Score."
   ]
  },
  {
   "cell_type": "code",
   "execution_count": 22,
   "metadata": {},
   "outputs": [
    {
     "data": {
      "image/png": "[encoded data removed]",
      "text/plain": [
       "plot without title"
      ]
     },
     "metadata": {},
     "output_type": "display_data"
    }
   ],
   "source": [
    "qplot(games$User_Score, games$Global_Sales)"
   ]
  },
  {
   "cell_type": "markdown",
   "metadata": {},
   "source": [
    "We use the pairs.panels function is used for descriptive stats of the dataset."
   ]
  },
  {
   "cell_type": "code",
   "execution_count": 23,
   "metadata": {},
   "outputs": [
    {
     "data": {
      "image/png": "[encoded data removed]",
      "text/plain": [
       "plot without title"
      ]
     },
     "metadata": {},
     "output_type": "display_data"
    }
   ],
   "source": [
    "pairs.panels(games)  "
   ]
  },
  {
   "cell_type": "markdown",
   "metadata": {},
   "source": [
    "Next we use boxplot to display top 5 publishers with the mean of critic and user scores. The below plot shows the median between the two variables.  "
   ]
  },
  {
   "cell_type": "code",
   "execution_count": 24,
   "metadata": {},
   "outputs": [
    {
     "data": {
      "image/png": "[encoded data removed]",
      "text/plain": [
       "plot without title"
      ]
     },
     "metadata": {},
     "output_type": "display_data"
    }
   ],
   "source": [
    "boxplot(games[games$Publisher==\"Activision\",]$meanCU,\n",
    "        games[games$Publisher==\"Ubisoft\",]$meanCU,\n",
    "        games[games$Publisher==\"Nintendo\",]$meanCU,\n",
    "        games[games$Publisher==\"Sony Computer Entertainment\",]$meanCU,\n",
    "        names=c(\"Activision\",\"Ubisoft\",\"Nintendo\",\"Sony\"),\n",
    "        col=(c(\"gold\",\"darkgreen\",\"magenta\",\"maroon\"))) "
   ]
  },
  {
   "cell_type": "markdown",
   "metadata": {},
   "source": [
    "## Linear Regression"
   ]
  },
  {
   "cell_type": "markdown",
   "metadata": {},
   "source": [
    "### 6. Response Variable"
   ]
  },
  {
   "cell_type": "markdown",
   "metadata": {},
   "source": [
    "The response variable we selected is global sales and the reason for this selection is we can analyze which factors help increase the sales using the other numerical columns in the dataset. We are xpecting to find by increasing which values can help increase sales in particular region and will eventually increase global sales. "
   ]
  },
  {
   "cell_type": "markdown",
   "metadata": {},
   "source": [
    "### 7. Explore Correlations"
   ]
  },
  {
   "cell_type": "markdown",
   "metadata": {},
   "source": [
    "A correlations test is used to evaluate the association between two or more variables."
   ]
  },
  {
   "cell_type": "code",
   "execution_count": 25,
   "metadata": {},
   "outputs": [
    {
     "data": {
      "image/png": "[encoded data removed]",
      "text/plain": [
       "plot without title"
      ]
     },
     "metadata": {},
     "output_type": "display_data"
    }
   ],
   "source": [
    "ggscatter(games, x = \"meanCU\", y = \"Global_Sales\",\n",
    "         add = \"reg.line\", conf.int = TRUE,\n",
    "         cor.coef = TRUE, cor.method = \"kendall\",\n",
    "         xlab = \"mean CU\", ylab = \"Global Sales\")"
   ]
  },
  {
   "cell_type": "code",
   "execution_count": 26,
   "metadata": {},
   "outputs": [
    {
     "data": {
      "text/plain": [
       "\n",
       "\tKendall's rank correlation tau\n",
       "\n",
       "data:  games$Global_Sales and games$Critic_Score\n",
       "z = 32.803, p-value < 2.2e-16\n",
       "alternative hypothesis: true tau is not equal to 0\n",
       "sample estimates:\n",
       "      tau \n",
       "0.2654419 \n"
      ]
     },
     "metadata": {},
     "output_type": "display_data"
    }
   ],
   "source": [
    "res <- cor.test(games$Global_Sales, games$Critic_Score, method = \"kendall\")\n",
    "res"
   ]
  },
  {
   "cell_type": "markdown",
   "metadata": {},
   "source": [
    "The p value of the test is less than the significant value 0.05. We can conclude that Global Sales and Critic Score are significantly correlated with a correlation coefficient pf 0.26 and p value of 2.2e-16."
   ]
  },
  {
   "cell_type": "markdown",
   "metadata": {},
   "source": [
    "### 8. Simple Linear Regression"
   ]
  },
  {
   "cell_type": "markdown",
   "metadata": {},
   "source": [
    "lm() function is used to create a simple linear regression model where Global_Sales is the dependent or predicted variable and Critic_Score is the independent or predictor variable, we name this model slr1."
   ]
  },
  {
   "cell_type": "code",
   "execution_count": 27,
   "metadata": {},
   "outputs": [],
   "source": [
    "slr1 <- lm(Global_Sales ~ Critic_Score, data = games)"
   ]
  },
  {
   "cell_type": "markdown",
   "metadata": {},
   "source": [
    "We display the summary of the above created model slr1.  "
   ]
  },
  {
   "cell_type": "code",
   "execution_count": 28,
   "metadata": {},
   "outputs": [
    {
     "data": {
      "text/plain": [
       "\n",
       "Call:\n",
       "lm(formula = Global_Sales ~ Critic_Score, data = games)\n",
       "\n",
       "Residuals:\n",
       "   Min     1Q Median     3Q    Max \n",
       "-1.514 -0.676 -0.319  0.159 81.572 \n",
       "\n",
       "Coefficients:\n",
       "              Estimate Std. Error t value Pr(>|t|)    \n",
       "(Intercept)  -1.559817   0.116108  -13.43   <2e-16 ***\n",
       "Critic_Score  0.033123   0.001621   20.43   <2e-16 ***\n",
       "---\n",
       "Signif. codes:  0 '***' 0.001 '**' 0.01 '*' 0.05 '.' 0.1 ' ' 1\n",
       "\n",
       "Residual standard error: 1.885 on 7015 degrees of freedom\n",
       "Multiple R-squared:  0.05615,\tAdjusted R-squared:  0.05601 \n",
       "F-statistic: 417.3 on 1 and 7015 DF,  p-value: < 2.2e-16\n"
      ]
     },
     "metadata": {},
     "output_type": "display_data"
    }
   ],
   "source": [
    "summary(slr1)"
   ]
  },
  {
   "cell_type": "markdown",
   "metadata": {},
   "source": [
    "The p value displayed above is less than 0.05 so it is significant which means Critic Score does affect the Global sales. The residual standard error value is the difference between the observed data of the dependent variable and fitted values."
   ]
  },
  {
   "cell_type": "markdown",
   "metadata": {},
   "source": [
    "Below we plot the graph of the above created model using plot function and incase exponential values being diplayed on the axis options function can be used."
   ]
  },
  {
   "cell_type": "code",
   "execution_count": 29,
   "metadata": {},
   "outputs": [
    {
     "data": {
      "image/png": "[encoded data removed]",
      "text/plain": [
       "Plot with title \" \""
      ]
     },
     "metadata": {},
     "output_type": "display_data"
    }
   ],
   "source": [
    "plot(games$Global_Sales, games$Critic_Score, ylab = \"Global Sales\", xlab = \"Critic Score\", main = \" \")\n",
    "##options(scipen = 999, repr.plot.width = 7, repr.plot.height = 5)"
   ]
  },
  {
   "cell_type": "markdown",
   "metadata": {},
   "source": [
    "lm() function is used to create a simple linear regression model where Global_Sales is the dependent or predicted variable and User_Score is the independent or predictor variable, we name this model slr2."
   ]
  },
  {
   "cell_type": "code",
   "execution_count": 30,
   "metadata": {},
   "outputs": [],
   "source": [
    "slr2 <- lm(Global_Sales ~ User_Score, data = games)"
   ]
  },
  {
   "cell_type": "markdown",
   "metadata": {},
   "source": [
    "We display the summary of the above created model slr2.  "
   ]
  },
  {
   "cell_type": "code",
   "execution_count": 31,
   "metadata": {},
   "outputs": [
    {
     "data": {
      "text/plain": [
       "\n",
       "Call:\n",
       "lm(formula = Global_Sales ~ User_Score, data = games)\n",
       "\n",
       "Residuals:\n",
       "   Min     1Q Median     3Q    Max \n",
       "-1.033 -0.653 -0.412 -0.004 81.665 \n",
       "\n",
       "Coefficients:\n",
       "            Estimate Std. Error t value Pr(>|t|)    \n",
       "(Intercept) -0.08951    0.11729  -0.763    0.445    \n",
       "User_Score   0.11926    0.01601   7.449 1.06e-13 ***\n",
       "---\n",
       "Signif. codes:  0 '***' 0.001 '**' 0.01 '*' 0.05 '.' 0.1 ' ' 1\n",
       "\n",
       "Residual standard error: 1.933 on 7015 degrees of freedom\n",
       "Multiple R-squared:  0.007847,\tAdjusted R-squared:  0.007706 \n",
       "F-statistic: 55.48 on 1 and 7015 DF,  p-value: 1.056e-13\n"
      ]
     },
     "metadata": {},
     "output_type": "display_data"
    }
   ],
   "source": [
    "summary(slr2)"
   ]
  },
  {
   "cell_type": "markdown",
   "metadata": {},
   "source": [
    "The p value displayed above is less than 0.05 so it is significant which means User Score does affect the Global sales. The residual standard error value is the difference between the observed data of the dependent variable and fitted values."
   ]
  },
  {
   "cell_type": "markdown",
   "metadata": {},
   "source": [
    "Below we plot the graph of the above created model using plot function and incase exponential values being diplayed on the axis options function can be used."
   ]
  },
  {
   "cell_type": "code",
   "execution_count": 32,
   "metadata": {},
   "outputs": [],
   "source": [
    "##plot(games$Global_Sales, games$User_Score, ylab = \"Global Sales\", xlab = \"User Score\", main = \" \")"
   ]
  },
  {
   "cell_type": "markdown",
   "metadata": {},
   "source": [
    "lm() function is used to create a simple linear regression model where Global_Sales is the dependent or predicted variable and Critic_Count is the independent or predictor variable, we name this model slr3."
   ]
  },
  {
   "cell_type": "code",
   "execution_count": 33,
   "metadata": {},
   "outputs": [],
   "source": [
    "slr3 <- lm(Global_Sales ~ Critic_Count, data = games)"
   ]
  },
  {
   "cell_type": "markdown",
   "metadata": {},
   "source": [
    "We display the summary of the above created model slr3.  "
   ]
  },
  {
   "cell_type": "code",
   "execution_count": 34,
   "metadata": {},
   "outputs": [
    {
     "data": {
      "text/plain": [
       "\n",
       "Call:\n",
       "lm(formula = Global_Sales ~ Critic_Count, data = games)\n",
       "\n",
       "Residuals:\n",
       "   Min     1Q Median     3Q    Max \n",
       "-2.740 -0.597 -0.233  0.099 81.112 \n",
       "\n",
       "Coefficients:\n",
       "              Estimate Std. Error t value Pr(>|t|)    \n",
       "(Intercept)  -0.075908   0.040008  -1.897   0.0578 .  \n",
       "Critic_Count  0.029286   0.001157  25.313   <2e-16 ***\n",
       "---\n",
       "Signif. codes:  0 '***' 0.001 '**' 0.01 '*' 0.05 '.' 0.1 ' ' 1\n",
       "\n",
       "Residual standard error: 1.857 on 7015 degrees of freedom\n",
       "Multiple R-squared:  0.08369,\tAdjusted R-squared:  0.08356 \n",
       "F-statistic: 640.7 on 1 and 7015 DF,  p-value: < 2.2e-16\n"
      ]
     },
     "metadata": {},
     "output_type": "display_data"
    }
   ],
   "source": [
    "summary(slr3)"
   ]
  },
  {
   "cell_type": "markdown",
   "metadata": {},
   "source": [
    "The p value displayed above is less than 0.05 so it is significant which means Critic Count does affect the Global sales. The residual standard error value is the difference between the observed data of the dependent variable and fitted values."
   ]
  },
  {
   "cell_type": "markdown",
   "metadata": {},
   "source": [
    "Below we plot the graph of the above created model using plot function and incase exponential values are being diplayed on the axis options function can be used."
   ]
  },
  {
   "cell_type": "code",
   "execution_count": 35,
   "metadata": {},
   "outputs": [],
   "source": [
    "##plot(games$Global_Sales, games$Critic_Count, ylab = \"Global Sales\", xlab = \"Critic Count\", main = \" \")"
   ]
  },
  {
   "cell_type": "markdown",
   "metadata": {},
   "source": [
    "lm() function is used to create a simple linear regression model where Global_Sales is the dependent or predicted variable and User_Count is the independent or predictor variable, we name this model slr4."
   ]
  },
  {
   "cell_type": "code",
   "execution_count": 36,
   "metadata": {},
   "outputs": [],
   "source": [
    "slr4 <- lm(Global_Sales ~ User_Count , data = games)"
   ]
  },
  {
   "cell_type": "markdown",
   "metadata": {},
   "source": [
    "We display the summary of the above created model slr4.  "
   ]
  },
  {
   "cell_type": "code",
   "execution_count": 37,
   "metadata": {},
   "outputs": [
    {
     "data": {
      "text/plain": [
       "\n",
       "Call:\n",
       "lm(formula = Global_Sales ~ User_Count, data = games)\n",
       "\n",
       "Residuals:\n",
       "   Min     1Q Median     3Q    Max \n",
       "-9.244 -0.540 -0.381  0.023 81.633 \n",
       "\n",
       "Coefficients:\n",
       "             Estimate Std. Error t value Pr(>|t|)    \n",
       "(Intercept) 6.150e-01  2.332e-02   26.37   <2e-16 ***\n",
       "User_Count  8.766e-04  3.841e-05   22.82   <2e-16 ***\n",
       "---\n",
       "Signif. codes:  0 '***' 0.001 '**' 0.01 '*' 0.05 '.' 0.1 ' ' 1\n",
       "\n",
       "Residual standard error: 1.872 on 7015 degrees of freedom\n",
       "Multiple R-squared:  0.06913,\tAdjusted R-squared:  0.069 \n",
       "F-statistic:   521 on 1 and 7015 DF,  p-value: < 2.2e-16\n"
      ]
     },
     "metadata": {},
     "output_type": "display_data"
    }
   ],
   "source": [
    "summary(slr4)"
   ]
  },
  {
   "cell_type": "markdown",
   "metadata": {},
   "source": [
    "The p value displayed above is less than 0.05 so it is significant which means User Count does affect the Global sales. The residual standard error value is the difference between the observed data of the dependent variable and fitted values."
   ]
  },
  {
   "cell_type": "code",
   "execution_count": 38,
   "metadata": {},
   "outputs": [],
   "source": [
    "##plot(games$Global_Sales, games$User_Count, ylab = \"Global Sales\", xlab = \"User Count\", main = \" \")"
   ]
  },
  {
   "cell_type": "markdown",
   "metadata": {},
   "source": [
    "Comparing the above created models we see that Global Sales and Critic Count, Global sales and Critic Score, Global sales and User Score, Global Sales and User Count Simple Linear Regression models have significant p values. All these 4 models have the dependent variables that are affected by the independent variables. <br>\n",
    "\n",
    "The Multiple R-squared values of the all the above models are very less which means the model does not represent the data well. The model slr3 has a better Multiple R-squared value compared to the other models and has a significant p value too as mentioned above. So the best model among the Simple Linear Regression models would be the Global Sales and Critic Count model. "
   ]
  },
  {
   "cell_type": "markdown",
   "metadata": {},
   "source": [
    "### 9. Multiple Linear Regression"
   ]
  },
  {
   "cell_type": "code",
   "execution_count": 39,
   "metadata": {},
   "outputs": [
    {
     "data": {
      "text/html": [
       "<table>\n",
       "<thead><tr><th></th><th scope=col>Name</th><th scope=col>Platform</th><th scope=col>Year_of_Release</th><th scope=col>Genre</th><th scope=col>Publisher</th><th scope=col>NA_Sales</th><th scope=col>EU_Sales</th><th scope=col>JP_Sales</th><th scope=col>Other_Sales</th><th scope=col>Global_Sales</th><th scope=col>Critic_Score</th><th scope=col>Critic_Count</th><th scope=col>User_Score</th><th scope=col>User_Count</th><th scope=col>Developer</th><th scope=col>Rating</th><th scope=col>meanCU</th><th scope=col>high_lowScore</th></tr></thead>\n",
       "<tbody>\n",
       "\t<tr><th scope=row>1</th><td>Wii Sports           </td><td>Wii                  </td><td>2006                 </td><td>Sports               </td><td>Nintendo             </td><td>41.36                </td><td>28.96                </td><td>3.77                 </td><td>8.45                 </td><td>82.53                </td><td>76                   </td><td>51                   </td><td>8.0                  </td><td>322                  </td><td>Nintendo             </td><td>E                    </td><td>42.00                </td><td>TRUE                 </td></tr>\n",
       "\t<tr><th scope=row>3</th><td>Mario Kart Wii       </td><td>Wii                  </td><td>2008                 </td><td>Racing               </td><td>Nintendo             </td><td>15.68                </td><td>12.76                </td><td>3.79                 </td><td>3.29                 </td><td>35.52                </td><td>82                   </td><td>73                   </td><td>8.3                  </td><td>709                  </td><td>Nintendo             </td><td>E                    </td><td>45.15                </td><td>TRUE                 </td></tr>\n",
       "\t<tr><th scope=row>4</th><td>Wii Sports Resort    </td><td>Wii                  </td><td>2009                 </td><td>Sports               </td><td>Nintendo             </td><td>15.61                </td><td>10.93                </td><td>3.28                 </td><td>2.95                 </td><td>32.77                </td><td>80                   </td><td>73                   </td><td>8.0                  </td><td>192                  </td><td>Nintendo             </td><td>E                    </td><td>44.00                </td><td>TRUE                 </td></tr>\n",
       "\t<tr><th scope=row>7</th><td>New Super Mario Bros.</td><td>DS                   </td><td>2006                 </td><td>Platform             </td><td>Nintendo             </td><td>11.28                </td><td> 9.14                </td><td>6.50                 </td><td>2.88                 </td><td>29.80                </td><td>89                   </td><td>65                   </td><td>8.5                  </td><td>431                  </td><td>Nintendo             </td><td>E                    </td><td>48.75                </td><td>TRUE                 </td></tr>\n",
       "\t<tr><th scope=row>8</th><td>Wii Play             </td><td>Wii                  </td><td>2006                 </td><td>Misc                 </td><td>Nintendo             </td><td>13.96                </td><td> 9.18                </td><td>2.93                 </td><td>2.84                 </td><td>28.92                </td><td>58                   </td><td>41                   </td><td>6.6                  </td><td>129                  </td><td>Nintendo             </td><td>E                    </td><td>32.30                </td><td>TRUE                 </td></tr>\n",
       "</tbody>\n",
       "</table>\n"
      ],
      "text/latex": [
       "\\begin{tabular}{r|llllllllllllllllll}\n",
       "  & Name & Platform & Year\\_of\\_Release & Genre & Publisher & NA\\_Sales & EU\\_Sales & JP\\_Sales & Other\\_Sales & Global\\_Sales & Critic\\_Score & Critic\\_Count & User\\_Score & User\\_Count & Developer & Rating & meanCU & high\\_lowScore\\\\\n",
       "\\hline\n",
       "\t1 & Wii Sports            & Wii                   & 2006                  & Sports                & Nintendo              & 41.36                 & 28.96                 & 3.77                  & 8.45                  & 82.53                 & 76                    & 51                    & 8.0                   & 322                   & Nintendo              & E                     & 42.00                 & TRUE                 \\\\\n",
       "\t3 & Mario Kart Wii        & Wii                   & 2008                  & Racing                & Nintendo              & 15.68                 & 12.76                 & 3.79                  & 3.29                  & 35.52                 & 82                    & 73                    & 8.3                   & 709                   & Nintendo              & E                     & 45.15                 & TRUE                 \\\\\n",
       "\t4 & Wii Sports Resort     & Wii                   & 2009                  & Sports                & Nintendo              & 15.61                 & 10.93                 & 3.28                  & 2.95                  & 32.77                 & 80                    & 73                    & 8.0                   & 192                   & Nintendo              & E                     & 44.00                 & TRUE                 \\\\\n",
       "\t7 & New Super Mario Bros. & DS                    & 2006                  & Platform              & Nintendo              & 11.28                 &  9.14                 & 6.50                  & 2.88                  & 29.80                 & 89                    & 65                    & 8.5                   & 431                   & Nintendo              & E                     & 48.75                 & TRUE                 \\\\\n",
       "\t8 & Wii Play              & Wii                   & 2006                  & Misc                  & Nintendo              & 13.96                 &  9.18                 & 2.93                  & 2.84                  & 28.92                 & 58                    & 41                    & 6.6                   & 129                   & Nintendo              & E                     & 32.30                 & TRUE                 \\\\\n",
       "\\end{tabular}\n"
      ],
      "text/markdown": [
       "\n",
       "| <!--/--> | Name | Platform | Year_of_Release | Genre | Publisher | NA_Sales | EU_Sales | JP_Sales | Other_Sales | Global_Sales | Critic_Score | Critic_Count | User_Score | User_Count | Developer | Rating | meanCU | high_lowScore |\n",
       "|---|---|---|---|---|---|---|---|---|---|---|---|---|---|---|---|---|---|---|\n",
       "| 1 | Wii Sports            | Wii                   | 2006                  | Sports                | Nintendo              | 41.36                 | 28.96                 | 3.77                  | 8.45                  | 82.53                 | 76                    | 51                    | 8.0                   | 322                   | Nintendo              | E                     | 42.00                 | TRUE                  |\n",
       "| 3 | Mario Kart Wii        | Wii                   | 2008                  | Racing                | Nintendo              | 15.68                 | 12.76                 | 3.79                  | 3.29                  | 35.52                 | 82                    | 73                    | 8.3                   | 709                   | Nintendo              | E                     | 45.15                 | TRUE                  |\n",
       "| 4 | Wii Sports Resort     | Wii                   | 2009                  | Sports                | Nintendo              | 15.61                 | 10.93                 | 3.28                  | 2.95                  | 32.77                 | 80                    | 73                    | 8.0                   | 192                   | Nintendo              | E                     | 44.00                 | TRUE                  |\n",
       "| 7 | New Super Mario Bros. | DS                    | 2006                  | Platform              | Nintendo              | 11.28                 |  9.14                 | 6.50                  | 2.88                  | 29.80                 | 89                    | 65                    | 8.5                   | 431                   | Nintendo              | E                     | 48.75                 | TRUE                  |\n",
       "| 8 | Wii Play              | Wii                   | 2006                  | Misc                  | Nintendo              | 13.96                 |  9.18                 | 2.93                  | 2.84                  | 28.92                 | 58                    | 41                    | 6.6                   | 129                   | Nintendo              | E                     | 32.30                 | TRUE                  |\n",
       "\n"
      ],
      "text/plain": [
       "  Name                  Platform Year_of_Release Genre    Publisher NA_Sales\n",
       "1 Wii Sports            Wii      2006            Sports   Nintendo  41.36   \n",
       "3 Mario Kart Wii        Wii      2008            Racing   Nintendo  15.68   \n",
       "4 Wii Sports Resort     Wii      2009            Sports   Nintendo  15.61   \n",
       "7 New Super Mario Bros. DS       2006            Platform Nintendo  11.28   \n",
       "8 Wii Play              Wii      2006            Misc     Nintendo  13.96   \n",
       "  EU_Sales JP_Sales Other_Sales Global_Sales Critic_Score Critic_Count\n",
       "1 28.96    3.77     8.45        82.53        76           51          \n",
       "3 12.76    3.79     3.29        35.52        82           73          \n",
       "4 10.93    3.28     2.95        32.77        80           73          \n",
       "7  9.14    6.50     2.88        29.80        89           65          \n",
       "8  9.18    2.93     2.84        28.92        58           41          \n",
       "  User_Score User_Count Developer Rating meanCU high_lowScore\n",
       "1 8.0        322        Nintendo  E      42.00  TRUE         \n",
       "3 8.3        709        Nintendo  E      45.15  TRUE         \n",
       "4 8.0        192        Nintendo  E      44.00  TRUE         \n",
       "7 8.5        431        Nintendo  E      48.75  TRUE         \n",
       "8 6.6        129        Nintendo  E      32.30  TRUE         "
      ]
     },
     "metadata": {},
     "output_type": "display_data"
    }
   ],
   "source": [
    "head(games, n=5)"
   ]
  },
  {
   "cell_type": "markdown",
   "metadata": {},
   "source": [
    "Below lm() function is used to create a multiple linear regression model where Global_Sales is the dependent or predicted variable and Critic_Score and User_Score are the independent or predictor variable, we name this model mlr2."
   ]
  },
  {
   "cell_type": "code",
   "execution_count": 40,
   "metadata": {},
   "outputs": [],
   "source": [
    "mlr1 <- lm(Global_Sales ~ Critic_Score + User_Score, data = games)"
   ]
  },
  {
   "cell_type": "markdown",
   "metadata": {},
   "source": [
    "Below we display the summary of the above created model mlr2.  "
   ]
  },
  {
   "cell_type": "code",
   "execution_count": 41,
   "metadata": {},
   "outputs": [
    {
     "data": {
      "text/plain": [
       "\n",
       "Call:\n",
       "lm(formula = Global_Sales ~ Critic_Score + User_Score, data = games)\n",
       "\n",
       "Residuals:\n",
       "   Min     1Q Median     3Q    Max \n",
       "-1.836 -0.670 -0.310  0.175 81.619 \n",
       "\n",
       "Coefficients:\n",
       "              Estimate Std. Error t value Pr(>|t|)    \n",
       "(Intercept)  -1.266216   0.128889  -9.824  < 2e-16 ***\n",
       "Critic_Score  0.039135   0.001988  19.683  < 2e-16 ***\n",
       "User_Score   -0.099680   0.019149  -5.205 1.99e-07 ***\n",
       "---\n",
       "Signif. codes:  0 '***' 0.001 '**' 0.01 '*' 0.05 '.' 0.1 ' ' 1\n",
       "\n",
       "Residual standard error: 1.882 on 7014 degrees of freedom\n",
       "Multiple R-squared:  0.05978,\tAdjusted R-squared:  0.05951 \n",
       "F-statistic:   223 on 2 and 7014 DF,  p-value: < 2.2e-16\n"
      ]
     },
     "metadata": {},
     "output_type": "display_data"
    }
   ],
   "source": [
    "summary(mlr1)"
   ]
  },
  {
   "cell_type": "markdown",
   "metadata": {},
   "source": [
    "The p value displayed above is less than 0.05 so it is significant which means Critic_Score and User_Score both affect the Global_Sales. The residual standard error value is the difference between the observed data of the dependent variable and fitted values."
   ]
  },
  {
   "cell_type": "markdown",
   "metadata": {},
   "source": [
    "#### Comparing models -"
   ]
  },
  {
   "cell_type": "code",
   "execution_count": 42,
   "metadata": {},
   "outputs": [
    {
     "data": {
      "text/html": [
       "<table>\n",
       "<thead><tr><th scope=col>Res.Df</th><th scope=col>RSS</th><th scope=col>Df</th><th scope=col>Sum of Sq</th><th scope=col>F</th><th scope=col>Pr(&gt;F)</th></tr></thead>\n",
       "<tbody>\n",
       "\t<tr><td>7015        </td><td>24930.97    </td><td>NA          </td><td>      NA    </td><td>     NA     </td><td>          NA</td></tr>\n",
       "\t<tr><td>7014        </td><td>24835.03    </td><td> 1          </td><td>95.94309    </td><td>27.0966     </td><td>1.990344e-07</td></tr>\n",
       "</tbody>\n",
       "</table>\n"
      ],
      "text/latex": [
       "\\begin{tabular}{r|llllll}\n",
       " Res.Df & RSS & Df & Sum of Sq & F & Pr(>F)\\\\\n",
       "\\hline\n",
       "\t 7015         & 24930.97     & NA           &       NA     &      NA      &           NA\\\\\n",
       "\t 7014         & 24835.03     &  1           & 95.94309     & 27.0966      & 1.990344e-07\\\\\n",
       "\\end{tabular}\n"
      ],
      "text/markdown": [
       "\n",
       "| Res.Df | RSS | Df | Sum of Sq | F | Pr(>F) |\n",
       "|---|---|---|---|---|---|\n",
       "| 7015         | 24930.97     | NA           |       NA     |      NA      |           NA |\n",
       "| 7014         | 24835.03     |  1           | 95.94309     | 27.0966      | 1.990344e-07 |\n",
       "\n"
      ],
      "text/plain": [
       "  Res.Df RSS      Df Sum of Sq F       Pr(>F)      \n",
       "1 7015   24930.97 NA       NA       NA           NA\n",
       "2 7014   24835.03  1 95.94309  27.0966 1.990344e-07"
      ]
     },
     "metadata": {},
     "output_type": "display_data"
    }
   ],
   "source": [
    "anova(slr1,mlr1)"
   ]
  },
  {
   "cell_type": "code",
   "execution_count": 49,
   "metadata": {},
   "outputs": [
    {
     "data": {
      "image/png": "[encoded data removed]",
      "text/plain": [
       "plot without title"
      ]
     },
     "metadata": {},
     "output_type": "display_data"
    }
   ],
   "source": [
    "require(ggplot2)\n",
    "ggplot(games,aes(y=Global_Sales,x=meanCU))+geom_point()+geom_smooth(method=\"lm\")"
   ]
  },
  {
   "cell_type": "markdown",
   "metadata": {},
   "source": [
    "The result shows a Df of 1 indicating that the more complex model has one additional parameter and very small p-value. This means that adding User Score along with Critic score leads to significantly improved fit over model 1 which has just one score parameter."
   ]
  },
  {
   "cell_type": "markdown",
   "metadata": {},
   "source": [
    "The Multiple R-squared values of the Multiple Regression Models are comparatively better than the values of the Simple Linear Regression Models. MLR models fit the data better than the SLR models."
   ]
  },
  {
   "cell_type": "markdown",
   "metadata": {},
   "source": [
    "### 10. Project Report"
   ]
  },
  {
   "cell_type": "markdown",
   "metadata": {},
   "source": [
    "Our objective is to help Sony Interactive Entertainment understand the market and how the critics score and users score given to games affect the global sales. The various factors that can affect sales in our dataset are overall global sales of a particular game, sales of how the game performed in regions of North America, Japan and Europe, also we have scores given by critic as well as users. This report tries to find how these above factors affect global sales.<br>\n",
    "\n",
    "Sony has to keep track of its competition and also know when and how to release video games which ensures profit in all regions and also know whether the users and critics score makes a difference in the sales or not.  <br>\n",
    "\n",
    "We first explored the entire dataset from the head of the dataset to the tail and also scanned through the summary of the dataset. The number of rows and columns in the dataset are also displayed. This dataset had total of 16k games information for us to analyze. <br>\n",
    "\n",
    "We noticed this dataset has a lot of NA values in most of the columns and replacing NA values with mean in certain numerical columns would not give us correct results in futher analysis so removing all the NA values was our best option. We have removed all the rows containing NA values in any column row. Our new dataset has around 7k rows with no NA values. <br>\n",
    "\n",
    "For the purpose of doing further analysis we created two new columns using the dataset itself. The first new column contains the mean of the Critic Score and User Score. The second new column gives the indication if the value in the global sales is greater or lower than the mean of the total values. <br>\n",
    "\n",
    "We have also displayed various graphs for visualization which shows how various columns affect the global sales of various developers. This helps Sony Interactive Entertainment get an insight on where the other developers are ahead and where they are lacking and Sony can take advantage of that and plan ahead. Visualization using graphs gives a better outlook and our stakeholder will understand the stats better. <br>\n",
    "\n",
    "The response variable we selected is global sales and the reason for this selection is we can analyze which factors help increase the sales using the other numerical columns in the dataset. We are xpecting to find by increasing which values can help increase sales in particular region and will eventually increase global sales. <br>  \n",
    "\n",
    "As our data is not normally distributed we had to use non-parametric correlation test. We used Kendalls rank-based correlation test. We concluded that Global Sales and Critic Score are significantly correlated after analysing the values. <br>\n",
    "\n",
    "We have also created Simple and Multiple Linear Regression models taking Global Sales as the dependent or predicted variable and other various columns as the independent or predicter variable. The Multiple R-squared values of the Multiple Regression Models are comparatively better than the values of the Simple Linear Regression Models. MLR models fit the data better than the SLR models. <br>\n",
    "\n",
    "After analysing the datasets we learn that there are more than one column that postively affect the Global sales. Critic Score, User Score, Critic Count, User Count individually affect the Global sales. Attention should be given to all these column values as they do play an important role in increasing global sales of the respective developers. <br>\n"
   ]
  },
  {
   "cell_type": "code",
   "execution_count": 50,
   "metadata": {},
   "outputs": [
    {
     "data": {
      "image/png": "[encoded data removed]",
      "text/plain": [
       "plot without title"
      ]
     },
     "metadata": {},
     "output_type": "display_data"
    }
   ],
   "source": [
    "require(ggplot2)\n",
    "ggplot(games,aes(y=Global_Sales,x=meanCU))+geom_point()+geom_smooth(method=\"lm\")"
   ]
  },
  {
   "cell_type": "markdown",
   "metadata": {},
   "source": [
    "#### Our Recommendation to Sony"
   ]
  },
  {
   "cell_type": "markdown",
   "metadata": {},
   "source": [
    "We recommend Sony to pay attention to Critic Score along with user score as both of them significantly affect the Global sales. While both the score are important, special attention should be given to the critic score. Sony should try to keep both the score high as they directly affect the global sales of any video game of any genre."
   ]
  },
  {
   "cell_type": "markdown",
   "metadata": {},
   "source": [
    "### 11. Originality"
   ]
  },
  {
   "cell_type": "markdown",
   "metadata": {},
   "source": [
    "While this dataset was very popular and many analysis were done on this, none of them had done linear regression in particular between global sales and mean of Critic Score and User Score both."
   ]
  }
 ],
 "metadata": {
  "kernelspec": {
   "display_name": "R",
   "language": "R",
   "name": "ir"
  },
  "language_info": {
   "codemirror_mode": "r",
   "file_extension": ".r",
   "mimetype": "text/x-r-source",
   "name": "R",
   "pygments_lexer": "r",
   "version": "3.6.1"
  }
 },
 "nbformat": 4,
 "nbformat_minor": 2
}
